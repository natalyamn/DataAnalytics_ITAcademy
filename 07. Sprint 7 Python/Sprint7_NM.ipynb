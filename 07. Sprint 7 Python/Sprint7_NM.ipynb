{
 "cells": [
  {
   "cell_type": "markdown",
   "metadata": {},
   "source": [
    "# **NIVEL 1**"
   ]
  },
  {
   "cell_type": "markdown",
   "metadata": {},
   "source": [
    "## Ejercicio 1: Calculadora del índice de masa corporal\n",
    "### Escribe una función que calcule el IMC ingresado por el usuario/a, es decir, quien lo ejecute deberá ingresar estos datos. La función debe clasificar el resultado en sus respectivas categorías."
   ]
  },
  {
   "cell_type": "markdown",
   "metadata": {},
   "source": [
    "**Explicación del código**  \n",
    "* input para que el usuario introduzca su peso en kg\n",
    "* input para que el usuario introduzca su altura en metros\n",
    "* añado los 4 puntos de control para validar los datos del input (explicado en el apartado EXTRA)\n",
    "* print de los datos introducidos por el usuario\n",
    "* defino la variable IMC \n",
    "* clasificación en categorías (con if - elif - else) según el resultado de IMC \n",
    "* print del resultado, redondeando IMC a 1 decimal (:.1f)\n",
    "\n",
    "**EXTRA: validación de los valores introducidos en el input** \n",
    "* tomo en consideración que el usuario puede introducir peso o altura en valor negativo/cero o unos valores fisicamente poco probables (ej: superiores a los máximos registrados en el record guiness)\n",
    "    * en esos casos, saltará error ValueError (raise ValueError)\n",
    "\n",
    "* uso **try-except** para printar mensaje de error en caso de que el usuario introduzca los datos en un formato incorrecto (ej: coma en lugar de punto para decimales; str en lugar de int; peso o altura <= 0 o muy elevados)\n",
    "    * **try**: cuerpo del código; se ejecutará completo siempre y cuando el usuario introduzca valores válidos; el código se interrumpirá en caso de no superar los siguientes puntos: \n",
    "        * 1r punto: casting peso a float\n",
    "        * 2o punto: casting altura a float\n",
    "        * 3r punto: peso dentro del rango lógico\n",
    "        * 4o punto: altura dentro del rango lógico \n",
    "    * **except ValueError** (error que salta cuando no se puede convertir input a float o cuando se está fuera del rango permitido para el peso/altura): print mensaje de error\n",
    "\n",
    "* para personalizar el mensaje del error, he dejado a propósito los inputs de peso y altura fuera del **try**; de esta manera, el usuario sabe qué datos ha introducido y así identificará más fácilmente el error cometido después de leer el print del formato aceptado"
   ]
  },
  {
   "cell_type": "code",
   "execution_count": 1,
   "metadata": {},
   "outputs": [
    {
     "name": "stdout",
     "output_type": "stream",
     "text": [
      "Bienvenido/a a la calculadora del índice de masa corporal (IMC). Para calcularlo, deberá introducir su peso y altura.\n",
      "Datos introducidos: 59.0 kg y 1.53 m.\n",
      "Su índice de masa corporal es 25.2 y pertenece a la categoría de sobrepeso.\n",
      "Gracias por utilizar nuestra calculadora de IMC. Si desea realizar otro cálculo, por favor ejecuta de nuevo el programa.\n"
     ]
    }
   ],
   "source": [
    "print('Bienvenido/a a la calculadora del índice de masa corporal (IMC). Para calcularlo, deberá introducir su peso y altura.')\n",
    "\n",
    "peso = input('Primero, introduzca su peso en kg (ej. 60.5): ')\n",
    "altura = input('Ahora, introduzca su altura en m (ej. 1.80): ')\n",
    "\n",
    "try: \n",
    "    peso = float(peso)\n",
    "    altura = float(altura)\n",
    "\n",
    "    if peso <= 0 or peso > 550:\n",
    "        raise ValueError\n",
    "    if altura <=0 or altura > 3:\n",
    "        raise ValueError\n",
    "\n",
    "    print(f'Datos introducidos: {peso} kg y {altura} m.')\n",
    "\n",
    "    IMC = peso/(altura**2)\n",
    "\n",
    "    if IMC < 18.5:\n",
    "        categoria = 'bajo peso'\n",
    "    elif IMC < 25:\n",
    "        categoria = 'peso normal'\n",
    "    elif IMC < 30:\n",
    "        categoria = 'sobrepeso'\n",
    "    else:\n",
    "        categoria = 'obesidad'\n",
    "\n",
    "    print(f'Su índice de masa corporal es {IMC:.1f} y pertenece a la categoría de {categoria}.')\n",
    "    print('Gracias por utilizar nuestra calculadora de IMC. Si desea realizar otro cálculo, por favor ejecuta de nuevo el programa.')\n",
    "\n",
    "except ValueError:\n",
    "    print(f'''Ha introducido {peso} kg y {altura} m. \n",
    "Estos datos no cumplen con el formato permitido. Tenga en cuenta que:  \n",
    "    · el peso y la altura deben ser valores numéricos\n",
    "    · los decimales deben escribirse con . (ej. 60.5 kg)\n",
    "    · el rango de peso aceptado es: entre 0 y 550 kg\n",
    "    · el rango de altura aceptada es: entre 0 y 3 m \n",
    "Por favor, ejecuta de nuevo el programa para realizar el cálculo de IMC.''')"
   ]
  },
  {
   "cell_type": "markdown",
   "metadata": {},
   "source": [
    "## Ejercicio 2: Conversor de temperaturas.\n",
    "\n",
    "### Existen diversas unidades de temperatura utilizadas en distintos contextos y regiones. Las más comunes son Celsius (°C), Fahrenheit (°F) y Kelvin (K). También existen otras unidades como Rankine (°Ra) y Réaumur (°Re). Selecciona al menos 2 y construye el conversor."
   ]
  },
  {
   "cell_type": "markdown",
   "metadata": {},
   "source": [
    "Para mi programa, seleccioné 3 unidades de temperatura: Celsius (°C), Fahrenheit (°F) y Kelvin (K). El usuario decide en que unidad introducirá la temperatura y obtendrá como resultado el equivalente en las otras dos unidades. \n",
    "\n",
    "**Explicación del código**\n",
    "* defino la función de conversión de temperatura de Celsius a Fahrenheit, Celsius a Kelvin, etc.\n",
    "* input para que el usuario introduzca la unidad de la temperatura que desea convertir (C, F o K)\n",
    "    * si la unidad introducida es C o F, añado simbolo ° para mejorar el formato de los prints\n",
    "* input para que el usuario introduzca el valor de la temperatura que desea convertir\n",
    "* añado los 3 puntos de control para validar los datos del input (explicado en el apartado EXTRA)\n",
    "* print de los datos introducidos por el usuario\n",
    "* print del resultado en función de la unidad introducida (if - elif - else), llamo a las funciones definidas al inicio del programa\n",
    "    * resultado de la conversión redondeado a 2 decimales (:.2f)\n",
    "\n",
    "**EXTRA: validación de los valores introducidos en el input** \n",
    "* tomo en consideración que el usuario puede introducir unidad de temperatura en formato incorrecto (si escribe toda la unidad completa en lugar de unicamente la letra inicial) o una para la que no tenemos función de conversión definida (otras unidades de temperatura); también tomo en consideración que el valor de temperatura no puede ser inferior al cero absoluto\n",
    "    * en esos casos, saltará error ValueError (raise ValueError)\n",
    "\n",
    "* uso **try-except** para printar mensaje de error en caso de que el usuario introduzca los datos en un formato incorrecto (ej: unidad incorrecta; coma en lugar de punto para decimales; str en lugar de int; < cero absoluto)\n",
    "    * **try**: cuerpo del código; se ejecutará completo siempre y cuando el usuario introduzca valores válidos; el código se interrumpirá en caso de no superar los siguientes puntos (definidos al inicio del bloque try): \n",
    "        * 1r punto: unidad diferente a '°C', '°F' o 'K'\n",
    "        * 2o punto: casting valor temperatura a float\n",
    "        * 3r punto: valor inferior al cero absoluto\n",
    "    * **except ValueError**: print mensaje de error\n",
    "\n",
    "* para personalizar el mensaje del error, he dejado a propósito los inputs de peso y altura fuera del **try**; de esta manera, el usuario sabe qué datos ha introducido y así identificará más fácilmente el error cometido después de leer el print del formato aceptado"
   ]
  },
  {
   "cell_type": "code",
   "execution_count": 3,
   "metadata": {},
   "outputs": [
    {
     "name": "stdout",
     "output_type": "stream",
     "text": [
      "Bienvenido/a al conversor de temperaturas. Las unidades de conversión disponibles son: Celsius (°C), Fahrenheit (°F) y Kelvin (K).\n",
      "Temperatura introducida: 0.0 °C\n",
      "0.0 Celsius (°C) equivale a 273.15 Kelvin (K).\n",
      "0.0 Celsius (°C) equivale a 32.00 Fahrenheit (°F).\n",
      "Gracias por utilizar nuestro conversor de temperaturas. Si desea realizar otra conversión, por favor ejecuta de nuevo el programa.\n"
     ]
    }
   ],
   "source": [
    "print('Bienvenido/a al conversor de temperaturas. Las unidades de conversión disponibles son: Celsius (°C), Fahrenheit (°F) y Kelvin (K).')\n",
    "\n",
    "def celsius_to_kelvin(valor): \n",
    "    return valor + 273.15\n",
    "def celsius_to_fahrenheit(valor): \n",
    "    return valor * 9/5 + 32\n",
    "def fahrenheit_to_celsius(valor): \n",
    "    return valor - 32 * 5/9\n",
    "def fahrenheit_to_kelvin(valor): \n",
    "    return fahrenheit_to_celsius(valor) + 273.15\n",
    "def kelvin_to_celsius(valor):\n",
    "    return valor - 273.15\n",
    "def kelvin_to_fahrenheit(valor): \n",
    "    return kelvin_to_celsius(valor) * 9/5 + 32\n",
    "\n",
    "unidad = input('¿Qué unidad de temperatura desea convertir? Teclee la letra C para Celsius, F para Fahrenheit o K para Kelvin.').capitalize()\n",
    "if unidad == 'C' or unidad == 'F':\n",
    "    unidad = '°' + unidad\n",
    "    \n",
    "valor = input('Ahora, indique el valor de temperatura que desea convertir, utilizando . como separador de decimales (ej. 20.5): ')\n",
    "\n",
    "try:\n",
    "    if unidad not in {'°C', '°F', 'K'}:\n",
    "        raise ValueError\n",
    "    \n",
    "    valor = float(valor)\n",
    "\n",
    "    if unidad == '°C' and valor < -273.15:\n",
    "        raise ValueError\n",
    "    elif unidad == '°F' and valor < -459.67:\n",
    "        raise ValueError\n",
    "    elif unidad == 'K' and valor < 0:\n",
    "        raise ValueError\n",
    "    \n",
    "    print(f'Temperatura introducida: {valor} {unidad}')\n",
    "    \n",
    "    if unidad == '°C':\n",
    "        print(f'{valor} Celsius ({unidad}) equivale a {celsius_to_kelvin(valor):.2f} Kelvin (K).')\n",
    "        print(f'{valor} Celsius ({unidad}) equivale a {celsius_to_fahrenheit(valor):.2f} Fahrenheit (°F).')\n",
    "    elif unidad == '°F':\n",
    "        print(f'{valor} Fahrenheit ({unidad}) equivale a {fahrenheit_to_celsius(valor):.2f} Celsius (°C).')\n",
    "        print(f'{valor} Fahrenheit ({unidad}) equivale a {fahrenheit_to_kelvin(valor):.2f} Kelvin (K).')\n",
    "    else:\n",
    "        print(f'{valor} Kelvin ({unidad}) equivale a {kelvin_to_celsius(valor):.2f} Celsius (°C).')\n",
    "        print(f'{valor} Kelvin ({unidad}) equivale a {kelvin_to_fahrenheit(valor):.2f} Fahrenheit (°F).')\n",
    "\n",
    "    print('Gracias por utilizar nuestro conversor de temperaturas. Si desea realizar otra conversión, por favor ejecuta de nuevo el programa.')\n",
    "\n",
    "except ValueError: \n",
    "    print(f'''Ha introducido: {valor} {unidad}. \n",
    "Estos datos no cumplen con el formato permitido. Tenga en cuenta que:  \n",
    "    · las unidades de conversión son: Celsius (°C), Fahrenheit (°F) o Kelvin (K)\n",
    "    · el valor de la temperatura debe ser numérico\n",
    "    · los decimales deben escribirse con . (ej. 20.5 °C)\n",
    "    · el valor de temperatura no puede ser inferior al cero absoluto: -273.15 °C, -459.67 °F o 0 K\n",
    "Por favor, ejecuta de nuevo el programa para realizar la conversión de temperatura.''')"
   ]
  },
  {
   "cell_type": "markdown",
   "metadata": {},
   "source": [
    "## Ejercicio 3: Contador de palabras de un texto.\n",
    "\n",
    "### Escribe una función que dado un texto, muestre las veces que aparece cada palabra."
   ]
  },
  {
   "cell_type": "markdown",
   "metadata": {},
   "source": [
    "**Explicación del código** \n",
    "* defino la función del contador de **palabras**; contiene 3 partes destacables:\n",
    "    * limpieza del texto introducido: para quitar los signos de puntuación y posibles números\n",
    "        * defino los posibles signos de puntuación que se pueden encontrar en un texto (entre ''' para poder incluir ' y \" en la cadena)\n",
    "        * defino números\n",
    "        * creo bucle for que recorre el texto introducido; en caso de encontrarse con un signo de puntuación o con un número, lo reemplaza por un espacio en blanco\n",
    "        * decido reemplazarlo por espacio en blanco (' ') en lugar de simplemente eliminarlo ('') para separar correctamente las palabras\n",
    "            * ej. \"texto_separado\" → queda como \"texto separado\" (dos palabras separadas) y no \"textoseparado\" (una palabra)\n",
    "        * una vez el texto esta limpio, convierto en lower todas las palabras para evitar que la misma palabra se cuente como diferente por estar en mayúscula\n",
    "            * ej. \"uno Uno UNO\" → queda como \"uno uno uno\" (uno: 3 veces) y no \"uno Uno UNO\" (uno: 1 vez; Uno: 1 vez; UNO: 1 vez)\n",
    "    * separación del texto en una lista de palabras (elijo lista porque se permiten duplicados y se puede modificar)\n",
    "        * separo el texto con el método split, utilizando espacio en blanco como separador → se crea una lista con las palabras\n",
    "            * los espacios en blanco que se han ido generando al reemplazar signos de puntuación y/o números también aparecen en la lista\n",
    "        * para eliminar los espacios en blanco de la lista, creo una lista vacía y un bucle for\n",
    "            * se añadiran todas las palabras que no sean espacios en blanco (si se encuentra con espacio en blanco, vuelve al inicio del bucle (continue); de lo contrario, entre en el bloque else: lista_palabras.append(y))\n",
    "            * de esta manera, la lista con palabras llega más limpia al último bucle (explicado a continuación) y podemos concretar las palabras exactas que contiene el texto\n",
    "    * recuento de palabras\n",
    "        * creo un set vacío para saber cuáles son las palabras únicas del texto (y no tener la misma palabra printada dos o más veces en el resultado del bucle)\n",
    "        * creo bucle for que recorrerá la lista con las palabras, hará el recuento de la palabra y las añadirá al set; si la palabra ya está dentro del set, el bucle vuelve al inicio sin printar resultado (print(f'{palabra}: {recuento}'))\n",
    "* input para que el usuario introduzca un texto\n",
    "* llamo a la función definida al principio\n",
    "\n",
    "\n",
    "*Ejemplo del texto introducido: \"Estudios: clave del éxito. ¡Investiga! ¡Analiza! ¡Aprende! ¡Hoy, el 80% de los estudiantes acceden a recursos digitales para mejorar sus estudios!\"*"
   ]
  },
  {
   "cell_type": "code",
   "execution_count": 4,
   "metadata": {},
   "outputs": [
    {
     "name": "stdout",
     "output_type": "stream",
     "text": [
      "Bienvenido/a al contador de palabras de un texto. Para saber las veces que aparece cada palabra, deberá introducir un texto.\n",
      "Ha introducido el siguiente texto: \"Estudios: clave del éxito. ¡Investiga! ¡Analiza! ¡Aprende! ¡Hoy, el 80% de los estudiantes acceden a recursos digitales para mejorar sus estudios!\"\n",
      "Su texto contiene 20 palabras.\n",
      "A continuación, se concreta la cantidad de veces que se aparece cada palabra en su texto:\n",
      "estudios: 2\n",
      "clave: 1\n",
      "del: 1\n",
      "éxito: 1\n",
      "investiga: 1\n",
      "analiza: 1\n",
      "aprende: 1\n",
      "hoy: 1\n",
      "el: 1\n",
      "de: 1\n",
      "los: 1\n",
      "estudiantes: 1\n",
      "acceden: 1\n",
      "a: 1\n",
      "recursos: 1\n",
      "digitales: 1\n",
      "para: 1\n",
      "mejorar: 1\n",
      "sus: 1\n",
      "Gracias por utilizar nuestro contador de palabras. Si desea contar palabras de otro texto, por favor ejecuta de nuevo el programa.\n"
     ]
    }
   ],
   "source": [
    "print('Bienvenido/a al contador de palabras de un texto. Para saber las veces que aparece cada palabra, deberá introducir un texto.')\n",
    "\n",
    "def contador_palabras(texto_introducido):\n",
    "    print(f'Ha introducido el siguiente texto: {texto_introducido}')\n",
    "\n",
    "    #limpieza del texto introducido\n",
    "    signos = '''¡!¿?([{)]}.,;:'\"<>+*=/@#€$§%^&-_~'''\n",
    "    numeros = '0123456789'\n",
    "\n",
    "    for x in texto_introducido:\n",
    "        if (x in signos) or (x in numeros):\n",
    "            texto_introducido = texto_introducido.replace(x, ' ') \n",
    "    \n",
    "    texto_limpio = texto_introducido.lower()\n",
    "        \n",
    "    #separación del texto en lista de palabras\n",
    "    texto_separado = texto_limpio.split(' ')\n",
    "    \n",
    "    lista_palabras = []\n",
    "    for y in texto_separado:\n",
    "        if y == '':\n",
    "            continue\n",
    "        else:\n",
    "            lista_palabras.append(y)\n",
    "    \n",
    "    print(f'Su texto contiene {len(lista_palabras)} palabras.') \n",
    "    \n",
    "    #recuento de palabras\n",
    "    print('A continuación, se concreta la cantidad de veces que se aparece cada palabra en su texto:')\n",
    "    \n",
    "    palabras_unicas = set()\n",
    "    for palabra in lista_palabras:\n",
    "        recuento = lista_palabras.count(palabra)\n",
    "        if palabra in palabras_unicas:\n",
    "            continue\n",
    "        palabras_unicas.add(palabra)\n",
    "        print(f'{palabra}: {recuento}')\n",
    "\n",
    "\n",
    "texto_introducido = input('Para empezar, introduzca un texto: ')\n",
    "\n",
    "contador_palabras(texto_introducido)\n",
    "\n",
    "print('Gracias por utilizar nuestro contador de palabras. Si desea contar palabras de otro texto, por favor ejecuta de nuevo el programa.')"
   ]
  },
  {
   "cell_type": "markdown",
   "metadata": {},
   "source": [
    "## Ejercicio 4: Diccionario inverso.\n",
    "\n",
    "### Resulta que el cliente tiene una encuesta muy antigua que se almacena en un diccionario y los resultados los necesita a la inversa, es decir, intercambiados las claves y valores. Los valores y claves en el diccionario original son únicos; si éste no es el caso, la función debería imprimir un mensaje de advertencia."
   ]
  },
  {
   "cell_type": "markdown",
   "metadata": {},
   "source": [
    "**NOTA:** por definición, en un diccionario las claves no pueden tener duplicados, es decir, son únicas; los valores, en cambio, sí que pueden repetirse.\n",
    "\n",
    "**Explicación del código**\n",
    "* definición de la función diccionario inverso:\n",
    "    * creo un diccionario vacío\n",
    "    * creo bucle for que recorrerá las claves y los valores del diccionario original\n",
    "        * dado que en Python se distingue entre mayúsculas y minúsculas, transformo la primera letra de las claves y los valores en mayúsculas \n",
    "            * para evitar duplicados del estilo: 'valor3' y 'Valor3'\n",
    "        * añado condicional para que salte mensaje de valor duplicado; si el valor ya está como clave en el diccionario inverso, el bucle empieza desde el inicio (continue) y no se actualiza clave:valor del diccionario inverso; por tanto, en el diccionario inverso aparecerán la primera combinación valor:clave única encontrada en el diccionario original\n",
    "            * diccionario original: {'clave3': 'valor3', 'clave4': 'valor3'}\n",
    "            * diccionario inverso: {'valor3': 'clave3'} en lugar de {'valor3': 'clave4'} \n",
    "                * el valor para la clave 'valor3' se actualizaría si no se añade **continue** en el condicional\n",
    "        * añado la clave y el valor del diccionario original al diccionario inverso, intercambiados\n",
    "    * print del diccionario inverso\n",
    "* creo una variable para el diccionario original\n",
    "* llamo a la función diccionario inverso"
   ]
  },
  {
   "cell_type": "code",
   "execution_count": 5,
   "metadata": {},
   "outputs": [
    {
     "name": "stdout",
     "output_type": "stream",
     "text": [
      "Bienvenido/a al diccionario inverso, que permite intercambiar las claves y los valores de su diccionario original.\n",
      "El diccionario original es: {'clave 1': 'valor 1', 'clave 2': 'valor 2', 'clave 3': 'valor 3', 'clave 4': 'valor 3', 'CLAVE N': 'VALOR N'}\n",
      "El diccionario original contiene el valor \"Valor 3\" duplicado. No se ha incluido la combinación \"Clave 4: Valor 3\" al diccionario inverso.\n",
      "El diccionario inverso es: {'Valor 1': 'Clave 1', 'Valor 2': 'Clave 2', 'Valor 3': 'Clave 3', 'Valor N': 'Clave N'}\n"
     ]
    }
   ],
   "source": [
    "print('Bienvenido/a al diccionario inverso, que permite intercambiar las claves y los valores de su diccionario original.')\n",
    "\n",
    "def diccionario_inverso(diccionario_original):\n",
    "    diccionario_inverso = {}\n",
    "    for clave, valor in diccionario_original.items():\n",
    "        clave = clave.title()\n",
    "        valor = valor.title()\n",
    "        if valor in diccionario_inverso.keys():\n",
    "            print(f'El diccionario original contiene el valor \"{valor}\" duplicado. No se ha incluido la combinación \"{clave}: {valor}\" al diccionario inverso.')\n",
    "            continue\n",
    "        diccionario_inverso[valor] = clave\n",
    "    print(f'El diccionario inverso es: {diccionario_inverso}')\n",
    "\n",
    "#Introducir los datos en formato de diccionario en la variable diccionario_original: \n",
    "diccionario_original = {'clave 1':'valor 1',\n",
    "                        'clave 2':'valor 2',\n",
    "                        'clave 3':'valor 3',\n",
    "                        'clave 4':'valor 3',\n",
    "                        'CLAVE N':'VALOR N'}\n",
    "\n",
    "print(f'El diccionario original es: {diccionario_original}')\n",
    "\n",
    "diccionario_inverso(diccionario_original)"
   ]
  },
  {
   "cell_type": "markdown",
   "metadata": {},
   "source": [
    "# **NIVEL 2**"
   ]
  },
  {
   "cell_type": "markdown",
   "metadata": {},
   "source": [
    "## Ejercicio 1: Diccionario inverso con duplicados\n",
    "\n",
    "### Continuando con el ejercicio 4 del nivel 1: al cliente se olvidó comentar un detalle y resulta que los valores en el diccionario original pueden duplicarse y más, por lo que las claves intercambiadas pueden tener duplicados. En tales casos, los valores del diccionario resultante tendrán que almacenarse como una lista. Ten en cuenta que un valor único no debe ser una lista."
   ]
  },
  {
   "cell_type": "markdown",
   "metadata": {},
   "source": [
    "## Ejercicio 2: Conversión de tipos de datos\n",
    "\n",
    "### El cliente recibe una lista de datos y necesita generar dos listas, la primera donde estarán todos los elementos que pudieron convertirse en flotantes y la otra donde están los elementos que no pudieron convertirse. Ejemplo de la lista que recibe el cliente: [ '1.3', 'one' , '1e10' , 'seven', '3-1/2', ('2',1,1.4,'not-a-number' ), [1,2,'3','3.4']]"
   ]
  },
  {
   "cell_type": "markdown",
   "metadata": {},
   "source": [
    "# **NIVEL 3**"
   ]
  },
  {
   "cell_type": "markdown",
   "metadata": {},
   "source": [
    "## Ejercicio 1: Contador y ordenador de palabras de un texto\n",
    "\n",
    "### El cliente quedó contento con el contador de palabras, pero ahora quiere leer archivos TXT y que calcule la frecuencia de cada palabra ordenadas dentro de las entradas habituales del diccionario según la letra con la que comienzan, es decir, las claves deben ir de la A a la Z y dentro de la A debemos ir de la A a la Z."
   ]
  }
 ],
 "metadata": {
  "kernelspec": {
   "display_name": "Python 3",
   "language": "python",
   "name": "python3"
  },
  "language_info": {
   "codemirror_mode": {
    "name": "ipython",
    "version": 3
   },
   "file_extension": ".py",
   "mimetype": "text/x-python",
   "name": "python",
   "nbconvert_exporter": "python",
   "pygments_lexer": "ipython3",
   "version": "3.12.2"
  }
 },
 "nbformat": 4,
 "nbformat_minor": 2
}
