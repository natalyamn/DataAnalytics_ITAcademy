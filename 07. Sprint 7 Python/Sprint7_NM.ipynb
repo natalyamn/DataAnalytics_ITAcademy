{
 "cells": [
  {
   "cell_type": "markdown",
   "metadata": {},
   "source": [
    "# **NIVEL 1**"
   ]
  },
  {
   "cell_type": "markdown",
   "metadata": {},
   "source": [
    "## Ejercicio 1: Calculadora del índice de masa corporal\n",
    "### Escribe una función que calcule el IMC ingresado por el usuario/a, es decir, quien lo ejecute deberá ingresar estos datos. La función debe clasificar el resultado en sus respectivas categorías."
   ]
  },
  {
   "cell_type": "markdown",
   "metadata": {},
   "source": [
    "**Explicación del código** \n",
    "* defino la función de cálculo de IMC y de clasificación en categorías según el resultado; incluyo print del resultado, redondeando IMC a 1 decimal (:.1f)\n",
    "* input para que el usuario introduzca su peso en kg\n",
    "* input para que el usuario introduzca su altura en metros\n",
    "* añado los 4 puntos de control para validar los datos del input (explicado en el apartado EXTRA)\n",
    "* print de los datos introducidos por el usuario\n",
    "* llamo a la función, con los argumentos de peso y altura del input\n",
    "\n",
    "**EXTRA: validación de los valores introducidos en el input** \n",
    "* tomo en consideración que el usuario puede introducir peso o altura en valor negativo/cero o unos valores fisicamente poco probables (ej: superiores a los máximos registrados en el record guiness)\n",
    "    * en esos casos, saltará error ValueError (raise ValueError)\n",
    "\n",
    "* uso **try-except** para printar mensaje de error en caso de que el usuario introduzca los datos en un formato incorrecto (ej: coma en lugar de punto para decimales; str en lugar de int; peso o altura <= 0 o muy elevados)\n",
    "    * **try**: cuerpo del código; se ejecutará completo siempre y cuando el usuario introduzca valores válidos; el código se interrumpirá en caso de no superar los siguientes puntos: \n",
    "        * 1r punto: casting peso a float\n",
    "        * 2o punto: casting altura a float\n",
    "        * 3r punto: peso dentro del rango lógico\n",
    "        * 4o punto: altura dentro del rango lógico \n",
    "    * **except ValueError** (error que salta cuando no se puede convertir input a float o cuando se está fuera del rango permitido para el peso/altura): print mensaje de error"
   ]
  },
  {
   "cell_type": "code",
   "execution_count": 7,
   "metadata": {},
   "outputs": [
    {
     "name": "stdout",
     "output_type": "stream",
     "text": [
      "Bienvenido/a a la calculadora del índice de masa corporal (IMC). Para calcularlo, deberá introducir su peso y altura.\n",
      "Datos introducidos: 54.0 kg y 1.65 m.\n",
      "Su índice de masa corporal es 19.8 y pertenece a la categoría de peso normal.\n",
      "Gracias por utilizar nuestra calculadora de IMC. Si desea realizar otro cálculo, por favor ejecuta de nuevo el programa.\n"
     ]
    }
   ],
   "source": [
    "print('Bienvenido/a a la calculadora del índice de masa corporal (IMC). Para calcularlo, deberá introducir su peso y altura.')\n",
    "\n",
    "def IMC_categoria(peso,altura):\n",
    "    IMC = peso/(altura**2)\n",
    "\n",
    "    if IMC < 18.5:\n",
    "        categoria = 'bajo peso'\n",
    "    elif IMC < 25:\n",
    "        categoria = 'peso normal'\n",
    "    elif IMC < 30:\n",
    "        categoria = 'sobrepeso'\n",
    "    else:\n",
    "        categoria = 'obesidad'\n",
    "\n",
    "    print(f'Su índice de masa corporal es {IMC:.1f} y pertenece a la categoría de {categoria}.')\n",
    "\n",
    "try: \n",
    "    peso = input('Primero, introduzca su peso en kg (ej. 60.5): ')\n",
    "    altura = input('Ahora, introduzca su altura en m (ej. 1.80): ')\n",
    "    \n",
    "    peso = float(peso)\n",
    "    altura = float(altura)\n",
    "\n",
    "    if peso <= 0 or peso > 550:\n",
    "        raise ValueError\n",
    "    if altura <=0 or altura > 3:\n",
    "        raise ValueError\n",
    "\n",
    "    print(f'Datos introducidos: {peso} kg y {altura} m.')\n",
    "\n",
    "    IMC_categoria(peso, altura)\n",
    "\n",
    "    print('Gracias por utilizar nuestra calculadora de IMC. Si desea realizar otro cálculo, por favor ejecuta de nuevo el programa.')\n",
    "\n",
    "except ValueError:\n",
    "    print(f'''Ha introducido {peso} kg y {altura} m. \n",
    "Estos datos no cumplen con el formato permitido. Tenga en cuenta que:  \n",
    "    · el peso y la altura deben ser valores numéricos\n",
    "    · los decimales deben escribirse con . (ej. 60.5 kg)\n",
    "    · el rango de peso aceptado es: entre 0 y 550 kg\n",
    "    · el rango de altura aceptada es: entre 0 y 3 m \n",
    "Por favor, ejecuta de nuevo el programa para realizar el cálculo de IMC.''')"
   ]
  },
  {
   "cell_type": "markdown",
   "metadata": {},
   "source": [
    "## Ejercicio 2: Conversor de temperaturas.\n",
    "\n",
    "### Existen diversas unidades de temperatura utilizadas en distintos contextos y regiones. Las más comunes son Celsius (°C), Fahrenheit (°F) y Kelvin (K). También existen otras unidades como Rankine (°Ra) y Réaumur (°Re). Selecciona al menos 2 y construye el conversor."
   ]
  },
  {
   "cell_type": "markdown",
   "metadata": {},
   "source": [
    "Para mi programa, seleccioné 3 unidades de temperatura: Celsius (°C), Fahrenheit (°F) y Kelvin (K). El usuario decide en qué unidad introducirá la temperatura y obtendrá como resultado el equivalente en las otras dos unidades. \n",
    "\n",
    "**Explicación del código**\n",
    "* defino la función de conversión de temperatura de Celsius a Fahrenheit, Celsius a Kelvin, etc.\n",
    "* input para que el usuario introduzca la unidad de la temperatura que desea convertir (C, F o K)\n",
    "    * si la unidad introducida es C o F, añado simbolo ° para mejorar el formato de los prints\n",
    "* input para que el usuario introduzca el valor de la temperatura que desea convertir\n",
    "* añado los 3 puntos de control para validar los datos del input (explicado en el apartado EXTRA)\n",
    "* print de los datos introducidos por el usuario\n",
    "* print del resultado en función de la unidad introducida (if - elif - else), llamo a las funciones definidas al inicio del programa\n",
    "    * resultado de la conversión redondeado a 2 decimales (:.2f)\n",
    "\n",
    "**EXTRA: validación de los valores introducidos en el input** \n",
    "* tomo en consideración que el usuario puede introducir unidad de temperatura en formato incorrecto (si escribe toda la unidad completa en lugar de unicamente la letra inicial) o una para la que no tenemos función de conversión definida (otras unidades de temperatura); también tomo en consideración que el valor de temperatura no puede ser inferior al cero absoluto\n",
    "    * en esos casos, saltará error ValueError (raise ValueError)\n",
    "\n",
    "* uso **try-except** para printar mensaje de error en caso de que el usuario introduzca los datos en un formato incorrecto (ej: unidad incorrecta; coma en lugar de punto para decimales; str en lugar de int; < cero absoluto)\n",
    "    * **try**: cuerpo del código; se ejecutará completo siempre y cuando el usuario introduzca valores válidos; el código se interrumpirá en caso de no superar los siguientes puntos (definidos después de los inputs en el bloque try): \n",
    "        * 1r punto: unidad diferente a '°C', '°F' o 'K'\n",
    "        * 2o punto: casting valor temperatura a float\n",
    "        * 3r punto: valor inferior al cero absoluto\n",
    "    * **except ValueError**: print mensaje de error"
   ]
  },
  {
   "cell_type": "code",
   "execution_count": 2,
   "metadata": {},
   "outputs": [
    {
     "name": "stdout",
     "output_type": "stream",
     "text": [
      "Bienvenido/a al conversor de temperaturas. Las unidades de conversión disponibles son: Celsius (°C), Fahrenheit (°F) y Kelvin (K).\n",
      "Temperatura introducida: 0.0 K\n",
      "0.0 Kelvin (K) equivale a -273.15 Celsius (°C).\n",
      "0.0 Kelvin (K) equivale a -459.67 Fahrenheit (°F).\n",
      "Gracias por utilizar nuestro conversor de temperaturas. Si desea realizar otra conversión, por favor ejecuta de nuevo el programa.\n"
     ]
    }
   ],
   "source": [
    "print('Bienvenido/a al conversor de temperaturas. Las unidades de conversión disponibles son: Celsius (°C), Fahrenheit (°F) y Kelvin (K).')\n",
    "\n",
    "def celsius_to_kelvin(valor): \n",
    "    return valor + 273.15\n",
    "def celsius_to_fahrenheit(valor): \n",
    "    return valor * 9/5 + 32\n",
    "def fahrenheit_to_celsius(valor): \n",
    "    return valor - 32 * 5/9\n",
    "def fahrenheit_to_kelvin(valor): \n",
    "    return fahrenheit_to_celsius(valor) + 273.15\n",
    "def kelvin_to_celsius(valor):\n",
    "    return valor - 273.15\n",
    "def kelvin_to_fahrenheit(valor): \n",
    "    return kelvin_to_celsius(valor) * 9/5 + 32\n",
    "\n",
    "try:\n",
    "    unidad = input('¿Qué unidad de temperatura desea convertir? Teclee la letra C para Celsius, F para Fahrenheit o K para Kelvin.').capitalize()\n",
    "    if unidad == 'C' or unidad == 'F':\n",
    "        unidad = '°' + unidad\n",
    "\n",
    "    valor = input('Ahora, indique el valor de temperatura que desea convertir, utilizando . como separador de decimales (ej. 20.5): ')\n",
    "\n",
    "    if unidad not in {'°C', '°F', 'K'}:\n",
    "        raise ValueError\n",
    "        \n",
    "    valor = float(valor)\n",
    "\n",
    "    if unidad == '°C' and valor < -273.15:\n",
    "        raise ValueError\n",
    "    elif unidad == '°F' and valor < -459.67:\n",
    "        raise ValueError\n",
    "    elif unidad == 'K' and valor < 0:\n",
    "        raise ValueError\n",
    "    \n",
    "    print(f'Temperatura introducida: {valor} {unidad}')\n",
    "    \n",
    "    if unidad == '°C':\n",
    "        print(f'{valor} Celsius ({unidad}) equivale a {celsius_to_kelvin(valor):.2f} Kelvin (K).')\n",
    "        print(f'{valor} Celsius ({unidad}) equivale a {celsius_to_fahrenheit(valor):.2f} Fahrenheit (°F).')\n",
    "    elif unidad == '°F':\n",
    "        print(f'{valor} Fahrenheit ({unidad}) equivale a {fahrenheit_to_celsius(valor):.2f} Celsius (°C).')\n",
    "        print(f'{valor} Fahrenheit ({unidad}) equivale a {fahrenheit_to_kelvin(valor):.2f} Kelvin (K).')\n",
    "    else:\n",
    "        print(f'{valor} Kelvin ({unidad}) equivale a {kelvin_to_celsius(valor):.2f} Celsius (°C).')\n",
    "        print(f'{valor} Kelvin ({unidad}) equivale a {kelvin_to_fahrenheit(valor):.2f} Fahrenheit (°F).')\n",
    "\n",
    "    print('Gracias por utilizar nuestro conversor de temperaturas. Si desea realizar otra conversión, por favor ejecuta de nuevo el programa.')\n",
    "\n",
    "except ValueError: \n",
    "    print(f'''Ha introducido: {valor} {unidad}. \n",
    "Estos datos no cumplen con el formato permitido. Tenga en cuenta que:  \n",
    "    · las unidades de conversión son: Celsius (°C), Fahrenheit (°F) o Kelvin (K)\n",
    "    · el valor de la temperatura debe ser numérico\n",
    "    · los decimales deben escribirse con . (ej. 20.5 °C)\n",
    "    · el valor de temperatura no puede ser inferior al cero absoluto: -273.15 °C, -459.67 °F o 0 K\n",
    "Por favor, ejecuta de nuevo el programa para realizar la conversión de temperatura.''')"
   ]
  },
  {
   "cell_type": "markdown",
   "metadata": {},
   "source": [
    "## Ejercicio 3: Contador de palabras de un texto.\n",
    "\n",
    "### Escribe una función que dado un texto, muestre las veces que aparece cada palabra."
   ]
  },
  {
   "cell_type": "markdown",
   "metadata": {},
   "source": [
    "**Explicación del código** \n",
    "* defino la función de limpiador de texto introducido, que contiene dos partes fundamentales:\n",
    "    * limpieza del texto introducido: para quitar los signos de puntuación y posibles números\n",
    "        * defino los posibles signos de puntuación que se pueden encontrar en un texto (entre ''' para poder incluir ' y \" en la cadena)\n",
    "        * defino números\n",
    "        * creo bucle for que recorre el texto introducido; en caso de encontrarse con un signo de puntuación o con un número, lo reemplaza por un espacio en blanco\n",
    "        * decido reemplazarlo por espacio en blanco (' ') en lugar de simplemente eliminarlo ('') para separar correctamente las palabras\n",
    "            * ej. \"texto_separado\" → queda como \"texto separado\" (dos palabras separadas) y no \"textoseparado\" (una palabra)\n",
    "        * una vez el texto esta limpio, convierto en lower todas las palabras para evitar que la misma palabra se cuente como diferente por estar en mayúscula\n",
    "            * ej. \"uno Uno UNO\" → queda como \"uno uno uno\" (uno: 3 veces) y no \"uno Uno UNO\" (uno: 1 vez; Uno: 1 vez; UNO: 1 vez)\n",
    "    * separación del texto en una lista de palabras (elijo lista porque se permiten duplicados y se puede modificar)\n",
    "        * separo el texto con el método split → se crea una lista con las palabras\n",
    "*  defino la función del contador de palabras:\n",
    "    * creo un set vacío \n",
    "    * creo bucle for que recorrerá la lista con las palabras, hará el recuento de la palabra y las añadirá al set; si la palabra ya está dentro del set, el bucle vuelve al inicio sin printar resultado (print(f'{palabra}: {recuento}'))\n",
    "        * la funcionalidad del set, por tanto, es almacenar las palabras únicas del texto y evitar printar la misma palabra dos o más veces en el resultado del bucle\n",
    "* input para que el usuario introduzca un texto\n",
    "* creo una variable llamada palabras_texto y llamo a la función de limpiador de texto → palabras_texto almacena las palabras del texto introducido en el input\n",
    "* llamo a la función de contador de palabras de esa lista\n",
    "\n",
    "\n",
    "*Ejemplo del texto introducido: \"Estudios: clave del éxito. ¡Investiga! ¡Analiza! ¡Aprende! ¡Hoy, el 80% de los estudiantes acceden a recursos digitales para mejorar sus estudios!\"*"
   ]
  },
  {
   "cell_type": "code",
   "execution_count": 1,
   "metadata": {},
   "outputs": [
    {
     "name": "stdout",
     "output_type": "stream",
     "text": [
      "Bienvenido/a al contador de palabras de un texto. Para saber las veces que aparece cada palabra, deberá introducir un texto.\n",
      "Ha introducido el siguiente texto: \"Estudios: clave del éxito. ¡Investiga! ¡Analiza! ¡Aprende! ¡Hoy, el 80% de los estudiantes acceden a recursos digitales para mejorar sus estudios!\"\n",
      "Su texto contiene 20 palabras.\n",
      "A continuación, se concreta la cantidad de veces que se aparece cada palabra:\n",
      "estudios: 2\n",
      "clave: 1\n",
      "del: 1\n",
      "éxito: 1\n",
      "investiga: 1\n",
      "analiza: 1\n",
      "aprende: 1\n",
      "hoy: 1\n",
      "el: 1\n",
      "de: 1\n",
      "los: 1\n",
      "estudiantes: 1\n",
      "acceden: 1\n",
      "a: 1\n",
      "recursos: 1\n",
      "digitales: 1\n",
      "para: 1\n",
      "mejorar: 1\n",
      "sus: 1\n",
      "Gracias por utilizar nuestro contador de palabras. Si desea contar las palabras de otro texto, por favor ejecuta de nuevo el programa.\n"
     ]
    }
   ],
   "source": [
    "def limpiador_texto(texto_introducido):\n",
    "    print(f'Ha introducido el siguiente texto: {texto_introducido}')\n",
    "\n",
    "    #limpieza del texto introducido\n",
    "    signos = '''¡!¿?([{)]}.,;:'\"<>+*=/@#€$§%^&-_~'''\n",
    "    numeros = '0123456789'\n",
    "\n",
    "    for x in texto_introducido:\n",
    "        if (x in signos) or (x in numeros):\n",
    "            texto_introducido = texto_introducido.replace(x, ' ') \n",
    "    \n",
    "    texto_limpio = texto_introducido.lower()\n",
    "        \n",
    "    #separación del texto en lista de palabras\n",
    "    lista_palabras = texto_limpio.split()\n",
    "    \n",
    "    print(f'Su texto contiene {len(lista_palabras)} palabras.')\n",
    "    return lista_palabras \n",
    "    \n",
    "def recuento_palabras(lista_palabras):\n",
    "    print('A continuación, se concreta la cantidad de veces que se aparece cada palabra:')\n",
    "    \n",
    "    palabras_unicas = set()\n",
    "    for palabra in lista_palabras:\n",
    "        recuento = lista_palabras.count(palabra)\n",
    "        if palabra in palabras_unicas:\n",
    "            continue\n",
    "        else: \n",
    "            palabras_unicas.add(palabra)\n",
    "        print(f'{palabra}: {recuento}')\n",
    "\n",
    "\n",
    "print('Bienvenido/a al contador de palabras de un texto. Para saber las veces que aparece cada palabra, deberá introducir un texto.')\n",
    "\n",
    "input_texto = input('Para empezar, introduzca un texto: ')\n",
    "palabras_texto = limpiador_texto(input_texto)\n",
    "recuento_palabras(palabras_texto)\n",
    "\n",
    "print('Gracias por utilizar nuestro contador de palabras. Si desea contar las palabras de otro texto, por favor ejecuta de nuevo el programa.')"
   ]
  },
  {
   "cell_type": "markdown",
   "metadata": {},
   "source": [
    "## Ejercicio 4: Diccionario inverso.\n",
    "\n",
    "### Resulta que el cliente tiene una encuesta muy antigua que se almacena en un diccionario y los resultados los necesita a la inversa, es decir, intercambiados las claves y valores. Los valores y claves en el diccionario original son únicos; si éste no es el caso, la función debería imprimir un mensaje de advertencia."
   ]
  },
  {
   "cell_type": "markdown",
   "metadata": {},
   "source": [
    "**NOTA:** por definición, en un diccionario las claves no pueden tener duplicados, es decir, son únicas; los valores, en cambio, sí que pueden repetirse.\n",
    "\n",
    "**Explicación del código**\n",
    "* definición de la función diccionario invertido:\n",
    "    * creo un diccionario vacío\n",
    "    * creo bucle for que recorrerá las claves y los valores del diccionario original\n",
    "        * dado que en Python se distingue entre mayúsculas y minúsculas, transformo la primera letra de las claves y los valores en mayúsculas \n",
    "            * para evitar duplicados del estilo: 'valor3' y 'Valor3'\n",
    "        * añado condicional para que salte mensaje de valor duplicado; si el valor ya está como clave en el diccionario inverso, el bucle empieza desde el inicio (continue) y no se actualiza clave:valor del diccionario inverso; por tanto, en el diccionario inverso aparecerán la primera combinación valor:clave única encontrada en el diccionario original\n",
    "            * diccionario original: {'clave3': 'valor3', 'clave4': 'valor3'}\n",
    "            * diccionario inverso: {'valor3': 'clave3'} en lugar de {'valor3': 'clave4'} \n",
    "                * el valor para la clave 'valor3' se actualizaría si no se añade *continue* en el condicional\n",
    "        * añado la clave y el valor del diccionario original al diccionario inverso, intercambiados\n",
    "    * print del diccionario inverso\n",
    "* creo una variable para el diccionario original\n",
    "* llamo a la función diccionario invertido"
   ]
  },
  {
   "cell_type": "code",
   "execution_count": 2,
   "metadata": {},
   "outputs": [
    {
     "name": "stdout",
     "output_type": "stream",
     "text": [
      "Bienvenido/a al diccionario inverso, que permite intercambiar las claves y los valores de su diccionario original.\n",
      "El diccionario original es: {'clave 1': 'valor 1', 'clave 2': 'valor 2', 'clave 3': 'valor 3', 'clave 4': 'valor 3', 'CLAVE N': 'VALOR N'}\n",
      "El diccionario original contiene el valor \"Valor 3\" duplicado. No se ha incluido la combinación \"Clave 4: Valor 3\" al diccionario inverso.\n",
      "El diccionario inverso es: {'Valor 1': 'Clave 1', 'Valor 2': 'Clave 2', 'Valor 3': 'Clave 3', 'Valor N': 'Clave N'}\n"
     ]
    }
   ],
   "source": [
    "print('Bienvenido/a al diccionario inverso, que permite intercambiar las claves y los valores de su diccionario original.')\n",
    "\n",
    "def diccionario_invertido(diccionario_original):\n",
    "    diccionario_inverso = {}\n",
    "    for clave, valor in diccionario_original.items():\n",
    "        clave = clave.title()\n",
    "        valor = valor.title()\n",
    "        if valor in diccionario_inverso.keys():\n",
    "            print(f'El diccionario original contiene el valor \"{valor}\" duplicado. No se ha incluido la combinación \"{clave}: {valor}\" al diccionario inverso.')\n",
    "            continue\n",
    "        else: \n",
    "            diccionario_inverso[valor] = clave\n",
    "    print(f'El diccionario inverso es: {diccionario_inverso}')\n",
    "\n",
    "#Introducir los datos en formato de diccionario en la variable diccionario_original: \n",
    "diccionario_original = {'clave 1':'valor 1',\n",
    "                        'clave 2':'valor 2',\n",
    "                        'clave 3':'valor 3',\n",
    "                        'clave 4':'valor 3',\n",
    "                        'CLAVE N':'VALOR N'}\n",
    "\n",
    "print(f'El diccionario original es: {diccionario_original}')\n",
    "\n",
    "diccionario_invertido(diccionario_original)"
   ]
  },
  {
   "cell_type": "markdown",
   "metadata": {},
   "source": [
    "# **NIVEL 2**"
   ]
  },
  {
   "cell_type": "markdown",
   "metadata": {},
   "source": [
    "## Ejercicio 1: Diccionario inverso con duplicados \n",
    "\n",
    "### Continuando con el ejercicio 4 del nivel 1: al cliente se olvidó comentar un detalle y resulta que los valores en el diccionario original pueden duplicarse y más, por lo que las claves intercambiadas pueden tener duplicados. En tales casos, los valores del diccionario resultante tendrán que almacenarse como una lista. Ten en cuenta que un valor único no debe ser una lista."
   ]
  },
  {
   "cell_type": "markdown",
   "metadata": {},
   "source": [
    "**NOTA:** por definición, en un diccionario las claves no pueden tener duplicados, es decir, son únicas; los valores, en cambio, sí que pueden repetirse.\n",
    "En caso de que un valor esté duplicado en el diccionario original, se almacenará como clave en el diccionario inverso y las claves del diccionario original se almacenarán como valores en una lista.\n",
    "\n",
    "**Explicación del código** \n",
    "\n",
    "Definición de la función diccionario invertido con duplicados:\n",
    "* creo un diccionario vacío\n",
    "* creo bucle for que recorrerá las claves y los valores del diccionario original\n",
    "    * dado que en Python se distingue entre mayúsculas y minúsculas, transformo la primera letra de las claves y los valores en mayúsculas \n",
    "        * para evitar duplicados del estilo: 'valor3' y 'Valor3'\n",
    "    * defino condicional if por si el valor del diccionario original está repitido y ya se almacenó en el diccionario inverso como clave:\n",
    "        * si el valor no está repetido, su clave se almacena en una lista  \n",
    "            * diccionario_inverso[valor] = [clave].\n",
    "        * si el valor está repitido, se añade la nueva clave a la lista y se actualiza el diccionario inverso con la lista ampliada \n",
    "            * i = diccionario_inverso[valor] → i.append(clave) → diccionario_inverso[valor] = i\n",
    "        * de esta manera, aquellos valores que no estaban repetidos tendrán un elemento en su lista, mientras que los repetidos tendrán varios\n",
    "    * como resultado, obtenemos un diccionario inverso donde todos los valores (claves del diccionario original) se almacenan en una lista\n",
    "* creo bucle for que recorrerá las claves y los valores del diccionario inverso\n",
    "    * si la longitud de los valores es 1, significa que unicamente hay un elemento en la lista; por tanto, actualizo ese valor para que aparezca como str y no lista\n",
    "    * si la longitud es superior, significa que hay más de un elemento en la lista de valores; en ese caso no hago ningún cambio\n",
    "* print del diccionario inverso\n",
    "\n",
    "Creo una variable para el diccionario original\n",
    "\n",
    "Llamo a la función diccionario invertido"
   ]
  },
  {
   "cell_type": "code",
   "execution_count": 5,
   "metadata": {},
   "outputs": [
    {
     "name": "stdout",
     "output_type": "stream",
     "text": [
      "Bienvenido/a al diccionario inverso con duplicados, que permite intercambiar las claves y los valores de su diccionario original y almacenar los duplicados en una lista.\n",
      "El diccionario original es: {'clave 1': 'valor 1', 'clave 2': 'valor 2', 'clave 3': 'valor 3', 'clave 4': 'valor 3', 'clave 5': 'valor 1', 'clave 6': 'valor 4', 'clave 7': 'valor 3', 'CLAVE N': 'VALOR N'}\n",
      "El diccionario inverso es: {'Valor 1': ['Clave 1', 'Clave 5'], 'Valor 2': 'Clave 2', 'Valor 3': ['Clave 3', 'Clave 4', 'Clave 7'], 'Valor 4': 'Clave 6', 'Valor N': 'Clave N'}\n"
     ]
    }
   ],
   "source": [
    "print('Bienvenido/a al diccionario inverso con duplicados, que permite intercambiar las claves y los valores de su diccionario original y almacenar los duplicados en una lista.')\n",
    "\n",
    "def diccionario_invertido(diccionario_original):\n",
    "    diccionario_inverso = {}\n",
    "    for clave, valor in diccionario_original.items():\n",
    "        clave = clave.title()\n",
    "        valor = valor.title() \n",
    "        if valor in diccionario_inverso.keys():\n",
    "            i = diccionario_inverso[valor]\n",
    "            i.append(clave)\n",
    "            diccionario_inverso[valor] = i\n",
    "        else: \n",
    "            diccionario_inverso[valor] = [clave]\n",
    "    \n",
    "    for clave, valor in diccionario_inverso.items():\n",
    "        i = diccionario_inverso[clave]\n",
    "        if len(i) == 1:\n",
    "            diccionario_inverso[clave] = i[0]\n",
    "        else:\n",
    "            diccionario_inverso\n",
    "\n",
    "    print(f'El diccionario inverso es: {diccionario_inverso}')\n",
    "\n",
    "#Introducir los datos en formato de diccionario en la variable diccionario_original: \n",
    "diccionario_original = {'clave 1':'valor 1',\n",
    "                        'clave 2':'valor 2',\n",
    "                        'clave 3':'valor 3',\n",
    "                        'clave 4':'valor 3',\n",
    "                        'clave 5':'valor 1',\n",
    "                        'clave 6':'valor 4',\n",
    "                        'clave 7':'valor 3',\n",
    "                        'CLAVE N':'VALOR N'}\n",
    "\n",
    "print(f'El diccionario original es: {diccionario_original}')\n",
    "\n",
    "diccionario_invertido(diccionario_original)"
   ]
  },
  {
   "cell_type": "markdown",
   "metadata": {},
   "source": [
    "## Ejercicio 2: Conversión de tipos de datos\n",
    "\n",
    "### El cliente recibe una lista de datos y necesita generar dos listas, la primera donde estarán todos los elementos que pudieron convertirse en flotantes y la otra donde están los elementos que no pudieron convertirse. Ejemplo de la lista que recibe el cliente: [ '1.3', 'one' , '1e10' , 'seven', '3-1/2', ('2',1,1.4,'not-a-number' ), [1,2,'3','3.4']]"
   ]
  },
  {
   "cell_type": "markdown",
   "metadata": {},
   "source": [
    "**Explicación del código**\n",
    "* defino una variable para la lista con datos (asumo que el cliente introducirá la lista en formato correcto)\n",
    "* print de la lista introducida\n",
    "* creo una lista vacía para los elementos que se pueden convertir a flotantes y otra para los que no \n",
    "* defino **bucle for** para recorrer los diferentes elementos de la lista:\n",
    "    * uso try - except para manejar varios errores: \n",
    "        * TypeError: error cuando se quiere convertir a float un elemento de tipo tupla o lista (tupla o lista dentro de la lista introducida)\n",
    "        * ValueError: error cuando no se puede convertir a float a pesar de tener el elemento en int o str (ej. 'one')\n",
    "    * **try**: para cada elemento interado, si se puede convertir a float, lo añado a la lista elementos_convertidos\n",
    "    * **except TypeError**: defino otro bucle para que recorra elemento por elemento la lista o tupla que no se pudo convertir a float; en este caso hay dos situaciones:\n",
    "        * el elemento de la lista se convierte a float → lo añado a la lista elementos_convertidos\n",
    "        * el elemento de la lista no se puede convertir → genera error ValueError → utilizo otro try - except para este bucle\n",
    "    * **except ValueError**: añado los elementos que no se pudieron convertir a float a la lista elementos_no_convertidos\n",
    "* print de las dos listas (elementos_convertidos y elementos_no_convertidos)\n",
    "\n",
    "NOTA: el elemento '3-1/2' no se convertió a float porque está definido como str y no se puede hacer la operación de resta; si estuviese definido como 3-1/2, se realizaría la operación y se incluiría el resultado en la lista de elementos_convertidos."
   ]
  },
  {
   "cell_type": "code",
   "execution_count": 6,
   "metadata": {},
   "outputs": [
    {
     "name": "stdout",
     "output_type": "stream",
     "text": [
      "Bienvenido/a al programa de conversión de tipos de datos, en el cual los datos de la lista introducida se separarán en elementos flotantes o no flotantes.\n",
      "La lista de datos introducida es: ['1.3', 'one', '1e10', 'seven', '3-1/2', ('2', 1, 1.4, 'not-a-number'), [1, 2, '3', '3.4']]\n",
      "Los elementos que se pudieron convertir en flotantes son: [1.3, 10000000000.0, 2.0, 1.0, 1.4, 1.0, 2.0, 3.0, 3.4]\n",
      "Los elementos que no se pudieron convertir en flotantes son: ['one', 'seven', '3-1/2', 'not-a-number']\n"
     ]
    }
   ],
   "source": [
    "print('Bienvenido/a al programa de conversión de tipos de datos, en el cual los datos de la lista introducida se separarán en elementos flotantes o no flotantes.')\n",
    "\n",
    "#Introducir los datos en formato de lista en la variable lista_cliente: \n",
    "lista_cliente = [ '1.3', 'one' , '1e10' , 'seven', '3-1/2', ('2',1,1.4,'not-a-number' ), [1,2,'3','3.4']]\n",
    "print(f'La lista de datos introducida es: {lista_cliente}')\n",
    "\n",
    "elementos_convertidos = []\n",
    "elementos_no_convertidos = []\n",
    "\n",
    "for elemento in lista_cliente:\n",
    "    try: \n",
    "        elemento = float(elemento)\n",
    "        elementos_convertidos.append(elemento)\n",
    "    except TypeError: \n",
    "        try: \n",
    "            for x in elemento:\n",
    "                x = float(x)\n",
    "                elementos_convertidos.append(x)\n",
    "        except ValueError: \n",
    "            elementos_no_convertidos.append(x)\n",
    "    except ValueError:\n",
    "        elementos_no_convertidos.append(elemento)\n",
    "\n",
    "print(f'Los elementos que se pudieron convertir en flotantes son: {elementos_convertidos}')\n",
    "print(f'Los elementos que no se pudieron convertir en flotantes son: {elementos_no_convertidos}')"
   ]
  },
  {
   "cell_type": "markdown",
   "metadata": {},
   "source": [
    "# **NIVEL 3**"
   ]
  },
  {
   "cell_type": "markdown",
   "metadata": {},
   "source": [
    "## Ejercicio 1: Contador y ordenador de palabras de un texto\n",
    "\n",
    "### El cliente quedó contento con el contador de palabras, pero ahora quiere leer archivos TXT y que calcule la frecuencia de cada palabra ordenadas dentro de las entradas habituales del diccionario según la letra con la que comienzan, es decir, las claves deben ir de la A a la Z y dentro de la A debemos ir de la A a la Z."
   ]
  },
  {
   "cell_type": "markdown",
   "metadata": {},
   "source": [
    "Para realizar este ejercicio, hice cambios oportunos en mi código de contador de palabras (ejercicio 1.3)\n",
    "\n",
    "**Explicación del código**\n",
    "* defino nueva función para abrir los archivos de texto desde la ruta del ordenador:\n",
    "    * utilizo *with open() as* para que el programa haga la lectura del archivo especificado y lo cierre al finalizar el bucle for\n",
    "        * encoding utf-8 para detectar correctamente los acentos\n",
    "    * defino variable txt_str \n",
    "    * defino bucle for para que recorra linea por linea del archivo (tal y como está en el documento original) y las almacene en la variable txt_str\n",
    "    * el resultado de la función será la variable txt_str\n",
    "\n",
    "* modificaciones en la función limpiador_texto:\n",
    "    * al haber saltos de línea en el archivo, los reemplazo por espacios en blanco (al igual que los signos de puntuación y/o números)\n",
    "    * el resto del código queda igual que en el ejercicio 1.3\n",
    "    * el resultado de la función es la lista de palabras del documento\n",
    "\n",
    "* modificaciones en la función contador_palabras (la he modificado completamente porque la finalidad del ejercicio es almacenar el recuento de palabras en un diccionario):\n",
    "    * creo un diccionario vacío llamado abcd\n",
    "        * defino bucle for que recorrerá las palabras de la lista de palabras:\n",
    "            * almaceno la primera letra de cada palabra (palabra[0]) como *clave* en el diccionario, dejando los *valores* como diccionario vacío → abcd.update({palabra[0]:{}})\n",
    "            * si la letra ya está en el diccionario, el bucle vuelve al inicio, sin pasar por la parte del update\n",
    "    * el diccionario abcd contendrá las letras por las cuales empiezan las palabras del documento, de modo que si hay alguna letra que no aparece en el documento (por ejemplo: ç), no aparecerá como clave (evito letras que no tendrán ninguna palabra:recuento)\n",
    "    * para completar los valores de cada clave del diccionario abcd, defino otro bucle for:\n",
    "        * bucle externo: recorre las claves del diccionario abcd; para cada clave, se ejecuta otro bucle for\n",
    "            * defino un diccionario vacío recuento_palabras donde almacenaré palabra:recuento (lo defino en el bucle externo para que al pasar a la siguiente iteración, el diccionario quede vacío de nuevo y se puedan almacenar nuevas palabras correspondiente a la letra de la clave)\n",
    "        * bucle interno: recorre las palabras de la lista de palabras del documento:\n",
    "            * en caso de que la palabra de la lista empiece por la misma letra que la clave del diccionario abcd: \n",
    "                * se hará el recuento de la palabra → recuento = lista_palabras.count(palabra)\n",
    "                * se actualiza el diccionario recuento_palabras con palabra como clave y recuento como valor → recuento_palabras.update({palabra:recuento})\n",
    "                * se actualiza el valor para la clave del diccionario abcd → a cada clave le corresponde un diccionario con recuento de palabras → abcd.update({letra:recuento_palabras})\n",
    "            * en caso de que la palabra ya esté dentro de las claves del diccionario recuento_palabras, el bucle interno vuelve a recorrer las palabras de la lista hasta encontrar una que empiece por la letra del bucle externo y que no esté ya añadida al recuento_palabras\n",
    "                * considero que de esta manera se evita ejecutar inecesariamente el bucle interno completo\n",
    "    * el resultado de la función es el diccionario abcd que contiene como clave letras y como valores las palabras y las veces que aparece cada una en el archivo txt; sin embargo, el diccionario no está ordenado\n",
    "\n",
    "    NOTA: seguro que hay otra manera más eficiente de hacer el contador de palabras sin necesidad de tantos bucles, pero es la manera más intuitiva para mí después de muchas pruebas. \n",
    "    \n",
    "* defino nueva función para ordenar el diccionario:\n",
    "    * creo un diccionario (diccionario_ordenado) para almacenar los datos ordenados\n",
    "    * defino bucle for para recorrer las entradas del diccionario\n",
    "        * uso sorted(diccionario) para ordenar las claves externas, es decir, las letras (a, b, c, d...)\n",
    "        * en el diccionario_ordenado las claves aparecen alfabéticamente y los valores se almacenarán en un diccionario interno (de momento vacío)\n",
    "    * defino otro bucle for interno para ordenar las claves del diccionario interno (el bucle se ejecutará para cada letra y se ordenaran las palabras alfabéticamente)\n",
    "        * uso sorted(diccionario[clave]) para ordenar las claves internas, es decir, las palabras (a, agua, al, alba...)\n",
    "        * asigno a cada clave interna del diccionario_ordenado el valor de recuento correspondiente (lo consigo con diccionario[clave][clave_interna]) → diccionario_ordenado[clave][clave_interna] = diccionario[clave][clave_interna]\n",
    "    \n",
    "    NOTA: creo que hay otra manera de ordenar el diccionario usando las comprehensions, pero el metodo descrito con bucles fue el más intuitivo para mí.\n",
    "\n",
    "* una vez definidas las funciones, creo la variable ruta para insertar la ruta al documento .txt\n",
    "* llamo a todas las funciones descritas"
   ]
  },
  {
   "cell_type": "code",
   "execution_count": 1,
   "metadata": {},
   "outputs": [
    {
     "name": "stdout",
     "output_type": "stream",
     "text": [
      "Bienvenido/a al contador y ordenador de palabras de archivos de texto .txt\n",
      "Su texto contiene 202 palabras.\n",
      "{'a': {'a': 3, 'agua': 1, 'al': 2, 'alba': 4, 'alcobas': 1, 'alimenta': 1, 'alma': 1, 'amarga': 1, 'azucena': 1}, 'b': {'baco': 1, 'banquete': 1, 'bebe': 1, 'blanca': 3, 'boca': 1, 'bosques': 1, 'buen': 1}, 'c': {'cabañas': 1, 'carnes': 2, 'casta': 3, 'cerrada': 1, 'con': 4, 'conservas': 1, 'copas': 1, 'corola': 1, 'corriste': 1, 'cuando': 2, 'cubierto': 1, 'cuerpo': 1, 'cuáles': 1}, 'd': {'de': 8, 'dejaste': 1, 'del': 1, 'diga': 1, 'dios': 2, 'duerme': 1}, 'e': {'el': 4, 'ellas': 1, 'en': 4, 'engaño': 1, 'enredada': 1, 'entonces': 1, 'escarcha': 1, 'espumas': 1, 'esqueleto': 1, 'estrago': 1}, 'f': {'festejando': 1, 'filtrado': 1, 'frutos': 1}, 'h': {'habla': 1, 'hacia': 1, 'haya': 1, 'hayas': 1, 'hermana': 1, 'hombre': 1, 'hubiste': 1, 'huye': 1}, 'i': {'intacto': 1}, 'j': {'jardines': 1}, 'l': {'la': 3, 'labios': 1, 'las': 7, 'lo': 2, 'los': 4, 'luna': 1, 'lévate': 1, 'límpiate': 1}, 'm': {'mano': 1, 'manos': 1, 'margarita': 1, 'me': 10, 'mi': 1, 'mieles': 1, 'milagros': 1, 'mojada': 1, 'montaña': 1, 'morados': 1}, 'n': {'negros': 1, 'ni': 2, 'no': 1, 'nácar': 1, 'nívea': 2}, 'p': {'perdone': 2, 'perfume': 1, 'por': 2, 'pretendes': 3, 'preténdeme': 3, 'puesto': 1, 'pájaros': 1, 'pámpanos': 1}, 'q': {'que': 6, 'quedó': 1, 'quieres': 6}, 'r': {'rayo': 1, 'raíz': 1, 'renueva': 1, 'rocas': 1, 'rojo': 1}, 's': {'salitre': 1, 'se': 2, 'sea': 1, 'sean': 1, 'sobre': 2, 'sé': 1}, 't': {'te': 3, 'tejidos': 1, 'tenue': 1, 'tierra': 1, 'toca': 1, 'todas': 2, 'todavía': 1, 'tornadas': 1, 'tú': 8}, 'u': {'un': 1, 'una': 1}, 'v': {'vestido': 1, 'vete': 1, 'vive': 1}, 'y': {'y': 5}}\n",
      "Gracias por utilizar nuestro programa. Si desea contar y ordenar las palabras de otro archivo, por favor modifique la ruta a su archivo .txt\n"
     ]
    }
   ],
   "source": [
    "def texto_archivo(ruta):\n",
    "    with open(ruta, 'r', encoding='utf-8') as txt_original:\n",
    "        txt_str = ''    \n",
    "        for linea in txt_original:\n",
    "            txt_str += linea\n",
    "    return txt_str\n",
    "\n",
    "def limpiador_texto(texto_introducido):\n",
    "    #limpieza del texto introducido\n",
    "    signos = '''¡!¿?([{)]}.,;:'\"<>+*=/@#€$§%^&-_~'''\n",
    "    numeros = '0123456789'\n",
    "\n",
    "    for x in texto_introducido:\n",
    "        if (x in signos) or (x in numeros) or (x == '\\n'):\n",
    "            texto_introducido = texto_introducido.replace(x, ' ')\n",
    "    \n",
    "    texto_limpio = texto_introducido.lower()\n",
    "            \n",
    "    #separación del texto en lista de palabras\n",
    "    lista_palabras = texto_limpio.split()\n",
    "    \n",
    "    print(f'Su texto contiene {len(lista_palabras)} palabras.')\n",
    "    return lista_palabras \n",
    "\n",
    "def contador_palabras(lista_palabras):\n",
    "    abcd = {}\n",
    "    for palabra in lista_palabras:\n",
    "        if palabra[0] in abcd.keys():\n",
    "            continue\n",
    "        else:\n",
    "            abcd.update({palabra[0]:{}})\n",
    "\n",
    "    for letra in abcd.keys():\n",
    "        recuento_palabras = {}\n",
    "        for palabra in lista_palabras:\n",
    "            if palabra.startswith(letra):\n",
    "                if palabra in recuento_palabras.keys():\n",
    "                    continue\n",
    "                else: \n",
    "                    recuento = lista_palabras.count(palabra)\n",
    "                    recuento_palabras.update({palabra:recuento})\n",
    "                    abcd.update({letra:recuento_palabras})\n",
    "    return abcd\n",
    "\n",
    "def ordenador_diccionario(diccionario):\n",
    "    diccionario_ordenado = {}\n",
    "    for clave in sorted(diccionario):\n",
    "        diccionario_ordenado[clave] = {}\n",
    "        for clave_interna in sorted(diccionario[clave]):\n",
    "            diccionario_ordenado[clave][clave_interna] = diccionario[clave][clave_interna]\n",
    "    print(diccionario_ordenado)\n",
    "\n",
    "print('Bienvenido/a al contador y ordenador de palabras de archivos de texto .txt')\n",
    "\n",
    "#ruta al archivo .txt\n",
    "ruta = 'C:\\\\Users\\\\Natalya\\\\Desktop\\\\Data Analytics\\\\07. Sprint 7 Python\\\\tu_me_quieres_blanca.txt'\n",
    "\n",
    "txt_archivo = texto_archivo(ruta)    \n",
    "palabras_archivo = limpiador_texto(txt_archivo)\n",
    "diccionario_recuento = contador_palabras(palabras_archivo)\n",
    "ordenador_diccionario(diccionario_recuento)\n",
    "\n",
    "print('Gracias por utilizar nuestro programa. Si desea contar y ordenar las palabras de otro archivo, por favor modifique la ruta a su archivo .txt')"
   ]
  }
 ],
 "metadata": {
  "kernelspec": {
   "display_name": "Python 3",
   "language": "python",
   "name": "python3"
  },
  "language_info": {
   "codemirror_mode": {
    "name": "ipython",
    "version": 3
   },
   "file_extension": ".py",
   "mimetype": "text/x-python",
   "name": "python",
   "nbconvert_exporter": "python",
   "pygments_lexer": "ipython3",
   "version": "3.12.2"
  }
 },
 "nbformat": 4,
 "nbformat_minor": 2
}
